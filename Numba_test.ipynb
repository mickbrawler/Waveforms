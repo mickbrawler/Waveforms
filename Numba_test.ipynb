{
 "cells": [
  {
   "cell_type": "markdown",
   "id": "actual-simple",
   "metadata": {},
   "source": [
    "# Simple demonstration of application of `Numba` to speed up python codes"
   ]
  },
  {
   "cell_type": "code",
   "execution_count": 1,
   "id": "improving-satin",
   "metadata": {},
   "outputs": [],
   "source": [
    "import time\n",
    "import numpy as np\n",
    "from numba import jit"
   ]
  },
  {
   "cell_type": "markdown",
   "id": "ethical-hotel",
   "metadata": {},
   "source": [
    "## A simple mock-up of the `cross-correlation` script"
   ]
  },
  {
   "cell_type": "code",
   "execution_count": 2,
   "id": "native-portsmouth",
   "metadata": {},
   "outputs": [],
   "source": [
    "def cross_correlate(d, y, dt=0.01):\n",
    "    ii = 0\n",
    "    time_slides = []\n",
    "    M = []\n",
    "    while len(d[ii:]) >= len(y):\n",
    "        time_slides.append(ii*dt)\n",
    "        M.append(np.sum(d[ii: len(y) + ii] * y))\n",
    "        ii += 1\n",
    "    M = np.array(M)\n",
    "    time_slides = np.array(time_slides)\n",
    "    return (time_slides, M)"
   ]
  },
  {
   "cell_type": "markdown",
   "id": "amber-amsterdam",
   "metadata": {},
   "source": [
    "## `Numba` decorated version of the above function"
   ]
  },
  {
   "cell_type": "code",
   "execution_count": 3,
   "id": "naughty-claim",
   "metadata": {},
   "outputs": [],
   "source": [
    "@jit(nopython=True) # The only new thing requried\n",
    "def cross_correlate_numba(d, y, dt=0.01):\n",
    "    ii = 0\n",
    "    time_slides = []\n",
    "    M = []\n",
    "    while len(d[ii:]) >= len(y):\n",
    "        time_slides.append(ii*dt)\n",
    "        M.append(np.sum(d[ii: len(y) + ii] * y))\n",
    "        ii += 1\n",
    "    M = np.array(M)\n",
    "    time_slides = np.array(time_slides)\n",
    "    return (time_slides, M)"
   ]
  },
  {
   "cell_type": "markdown",
   "id": "stopped-cartridge",
   "metadata": {},
   "source": [
    "### Make some fake data and template"
   ]
  },
  {
   "cell_type": "code",
   "execution_count": 4,
   "id": "attractive-plane",
   "metadata": {},
   "outputs": [],
   "source": [
    "d = np.random.random(500000)\n",
    "y = np.random.random(100)"
   ]
  },
  {
   "cell_type": "markdown",
   "id": "facial-boxing",
   "metadata": {},
   "source": [
    "### Speed test the standard code"
   ]
  },
  {
   "cell_type": "code",
   "execution_count": 5,
   "id": "scheduled-karen",
   "metadata": {},
   "outputs": [
    {
     "name": "stdout",
     "output_type": "stream",
     "text": [
      "2.35 s ± 110 ms per loop (mean ± std. dev. of 7 runs, 1 loop each)\n"
     ]
    }
   ],
   "source": [
    "%%timeit\n",
    "cross_correlate(d, y)"
   ]
  },
  {
   "cell_type": "markdown",
   "id": "urban-heavy",
   "metadata": {},
   "source": [
    "### Speed test `Numba` script"
   ]
  },
  {
   "cell_type": "code",
   "execution_count": 6,
   "id": "governmental-tennessee",
   "metadata": {},
   "outputs": [
    {
     "name": "stdout",
     "output_type": "stream",
     "text": [
      "131 ms ± 3.48 ms per loop (mean ± std. dev. of 7 runs, 1 loop each)\n"
     ]
    }
   ],
   "source": [
    "%%timeit\n",
    "cross_correlate_numba(d, y)"
   ]
  },
  {
   "cell_type": "markdown",
   "id": "requested-civilization",
   "metadata": {},
   "source": [
    "### Sanity check that the results are same"
   ]
  },
  {
   "cell_type": "code",
   "execution_count": 7,
   "id": "overall-vegetarian",
   "metadata": {},
   "outputs": [
    {
     "name": "stdout",
     "output_type": "stream",
     "text": [
      "[0. 0. 0. ... 0. 0. 0.]\n",
      "[ 7.10542736e-15  0.00000000e+00 -7.10542736e-15 ...  0.00000000e+00\n",
      "  7.10542736e-15 -7.10542736e-15]\n"
     ]
    }
   ],
   "source": [
    "m_standard = cross_correlate(d, y)\n",
    "m_numba = cross_correlate_numba(d, y)\n",
    "print(m_standard[0] - m_numba[0])\n",
    "print(m_standard[1] - m_numba[1])"
   ]
  },
  {
   "cell_type": "code",
   "execution_count": 8,
   "id": "according-slope",
   "metadata": {},
   "outputs": [
    {
     "data": {
      "text/plain": [
       "3.552713678800501e-14"
      ]
     },
     "execution_count": 8,
     "metadata": {},
     "output_type": "execute_result"
    }
   ],
   "source": [
    "np.max(np.abs(m_standard[1] - m_numba[1]))"
   ]
  },
  {
   "cell_type": "code",
   "execution_count": null,
   "id": "regulation-cabin",
   "metadata": {},
   "outputs": [],
   "source": []
  }
 ],
 "metadata": {
  "kernelspec": {
   "display_name": "numba",
   "language": "python",
   "name": "numba"
  },
  "language_info": {
   "codemirror_mode": {
    "name": "ipython",
    "version": 3
   },
   "file_extension": ".py",
   "mimetype": "text/x-python",
   "name": "python",
   "nbconvert_exporter": "python",
   "pygments_lexer": "ipython3",
   "version": "3.7.7"
  }
 },
 "nbformat": 4,
 "nbformat_minor": 5
}
